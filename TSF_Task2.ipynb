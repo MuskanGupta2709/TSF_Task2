{
  "nbformat": 4,
  "nbformat_minor": 0,
  "metadata": {
    "colab": {
      "name": "TSF_Task2.ipynb",
      "private_outputs": true,
      "provenance": [],
      "collapsed_sections": []
    },
    "kernelspec": {
      "name": "python3",
      "display_name": "Python 3"
    }
  },
  "cells": [
    {
      "cell_type": "markdown",
      "metadata": {
        "id": "P6L6jd3xHYqy"
      },
      "source": [
        "# **Author : Muskan Gupta**\r\n",
        "Data Science and Buisness Analytics\r\n",
        "\r\n",
        "**Task 2 : Prediction using unsupervised ML**"
      ]
    },
    {
      "cell_type": "markdown",
      "metadata": {
        "id": "C1JeeJIzDUxx"
      },
      "source": [
        " **Importing libraries**"
      ]
    },
    {
      "cell_type": "code",
      "metadata": {
        "id": "GWpKxR-XBlYB"
      },
      "source": [
        "import numpy as np\r\n",
        "import matplotlib.pyplot as plt\r\n",
        "import pandas as pd\r\n",
        "from sklearn import datasets"
      ],
      "execution_count": null,
      "outputs": []
    },
    {
      "cell_type": "markdown",
      "metadata": {
        "id": "5gS4jN0cDi6w"
      },
      "source": [
        "**Reading the data**"
      ]
    },
    {
      "cell_type": "code",
      "metadata": {
        "id": "DG6oJ1XDBzu-"
      },
      "source": [
        "iris = datasets.load_iris()\r\n",
        "iris_df = pd.DataFrame(iris.data, columns = iris.feature_names)\r\n",
        "iris_df.head()\r\n"
      ],
      "execution_count": null,
      "outputs": []
    },
    {
      "cell_type": "markdown",
      "metadata": {
        "id": "S9Pqk0NiECDU"
      },
      "source": [
        "**Finding the optimum number of clusters for K-means classification**"
      ]
    },
    {
      "cell_type": "code",
      "metadata": {
        "id": "oj0Vs0pPCsof"
      },
      "source": [
        "x = iris_df.iloc[:, [0, 1, 2, 3]].values"
      ],
      "execution_count": null,
      "outputs": []
    },
    {
      "cell_type": "code",
      "metadata": {
        "id": "e4cFiFbxCwlk"
      },
      "source": [
        "from sklearn.cluster import KMeans\r\n",
        "wcss = []"
      ],
      "execution_count": null,
      "outputs": []
    },
    {
      "cell_type": "code",
      "metadata": {
        "id": "5pCf05w8C2OR"
      },
      "source": [
        "for i in range(1, 11):\r\n",
        "    kmeans = KMeans(n_clusters = i, init = 'k-means++', \r\n",
        "                    max_iter = 300, n_init = 10, random_state = 0)\r\n",
        "    kmeans.fit(x)\r\n",
        "    wcss.append(kmeans.inertia_)"
      ],
      "execution_count": null,
      "outputs": []
    },
    {
      "cell_type": "markdown",
      "metadata": {
        "id": "IJ0bGre4EIFU"
      },
      "source": [
        "**Plotting the results**"
      ]
    },
    {
      "cell_type": "code",
      "metadata": {
        "id": "qMDF_S5eC67r"
      },
      "source": [
        "plt.plot(range(1, 11), wcss)\r\n",
        "plt.title('The elbow method')\r\n",
        "plt.xlabel('Number of clusters')\r\n",
        "plt.ylabel('WCSS') \r\n",
        "plt.show()"
      ],
      "execution_count": null,
      "outputs": []
    },
    {
      "cell_type": "markdown",
      "metadata": {
        "id": "SPTHcXU9ENmC"
      },
      "source": [
        "**Creating K-means classifier**"
      ]
    },
    {
      "cell_type": "code",
      "metadata": {
        "id": "ml475_LiC7Ca"
      },
      "source": [
        "kmeans = KMeans(n_clusters = 3, init = 'k-means++',\r\n",
        "                max_iter = 300, n_init = 10, random_state = 0)\r\n",
        "y_kmeans = kmeans.fit_predict(x)"
      ],
      "execution_count": null,
      "outputs": []
    },
    {
      "cell_type": "markdown",
      "metadata": {
        "id": "IVJNLn46EUjp"
      },
      "source": [
        "**Visualising the clusters**"
      ]
    },
    {
      "cell_type": "code",
      "metadata": {
        "id": "5A_sGtA7DFbd"
      },
      "source": [
        "plt.scatter(x[y_kmeans == 0, 0], x[y_kmeans == 0, 1], \r\n",
        "            s = 100, c = 'red', label = 'Iris-setosa')\r\n",
        "plt.scatter(x[y_kmeans == 1, 0], x[y_kmeans == 1, 1], \r\n",
        "            s = 100, c = 'blue', label = 'Iris-versicolour')\r\n",
        "plt.scatter(x[y_kmeans == 2, 0], x[y_kmeans == 2, 1],\r\n",
        "            s = 100, c = 'green', label = 'Iris-virginica')"
      ],
      "execution_count": null,
      "outputs": []
    },
    {
      "cell_type": "markdown",
      "metadata": {
        "id": "PP16FMU3EeO4"
      },
      "source": [
        "**Plotting the centroids of the clusters**"
      ]
    },
    {
      "cell_type": "code",
      "metadata": {
        "id": "DwJ7DO_aDFe5"
      },
      "source": [
        "plt.scatter(kmeans.cluster_centers_[:, 0], kmeans.cluster_centers_[:,1], \r\n",
        "            s = 100, c = 'yellow', label = 'Centroids')\r\n",
        "plt.legend()"
      ],
      "execution_count": null,
      "outputs": []
    }
  ]
}